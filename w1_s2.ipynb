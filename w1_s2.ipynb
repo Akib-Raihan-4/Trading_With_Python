{
 "cells": [
  {
   "cell_type": "markdown",
   "metadata": {},
   "source": [
    "## Deviation from normality.\n",
    "Basically it is saying that most of the time the actual time series on different assest classes are actually <br>\n",
    "not normally ditributed, hence normal assumption is just a **simplifying** assumption.\n",
    "<br>\n",
    "<br>\n",
    "\n",
    "### Problem with the Assumption:\n",
    "\n",
    "The real world is more complex. Actual investment returns, especially in stocks or hedge funds, don't always<br> behave like the simple bell curve suggests.\n",
    "\n",
    "#### Key Points:\n",
    "\n",
    "1. Extreme Returns in Normal Distribution:\n",
    "\n",
    "    - In a perfect world (normal distribution assumption), extreme positive or negative returns are very rare.<br> It's like saying, \"I expect to never see really big gains or losses.\"\n",
    "\n",
    "\n",
    "2. Reality Check - Actual Returns:\n",
    "    - When we look at actual investment returns, they can be way bigger (both good and bad) than what<br> the simple assumption predicts.\n",
    "<br>\n",
    "\n",
    "3. Underestimating Extreme Events:\n",
    "    - The assumption of a normal distribution underestimates the chances and sizes of really big positive or negative returns.\n",
    "<br>\n",
    "\n",
    "4. Introducing Skewness and Kurtosis:\n",
    "    - To better understand real-world returns, we introduce two concepts:\n",
    "        - **Skewness**: Measures how lopsided the distribution is.\n",
    "        - **Kurtosis**: Measures how thick or thin the tails of the distribution are.\n",
    "<br>\n",
    "\n",
    "5. Negatively Skewed Distributions:\n",
    "    - If returns are negatively skewed, it means there's a higher chance of really bad outcomes.\n",
    "    - When the mean (average) is less than the median, it signals negative skewness.\n",
    "<br>\n",
    "\n",
    "6. Volatility and Risk:\n",
    "    - Volatility is a common measure of risk.\n",
    "    - In negatively skewed distributions, relying only on volatility might make the risk seem less than<br> it actually is, especially for extreme negative returns.\n",
    "<br>\n",
    "\n",
    "7. Reality Check - Hedge Fund Returns:\n",
    "    - Looking at actual hedge fund returns, we often see negative skewness and high kurtosis,<br> indicating a higher chance of extreme negative returns.\n",
    "<br>\n",
    "\n",
    "8. Statistical Test - Jarque-Bera Test:\n",
    "    - The Jarque-Bera test helps us statistically check if a distribution is significantly<br>\n",
    "     different from the normal distribution.\n",
    "<br>\n",
    "\n",
    "9. Conclusion:\n",
    "    - Most investment returns don't fit the simple normal distribution assumption.\n",
    "    - Assuming normal distribution can be a big oversimplification, especially because extreme events<br>\n",
    "     happen more often than predicted.\n",
    "\n",
    "\n",
    "## Kurtosis:\n",
    "\n",
    "- Kurtosis is like looking at the tails of a distribution\n",
    "- If the distribution has fat tails, it means extreme events are more common.\n",
    "- If the tails are skinny, it means most values are close to the average, and extreme values are rare.\n",
    "- Understanding kurtosis helps us grasp how likely we are to see really high or really low values in a dataset.\n"
   ]
  },
  {
   "cell_type": "code",
   "execution_count": 63,
   "metadata": {},
   "outputs": [
    {
     "name": "stdout",
     "output_type": "stream",
     "text": [
      "The autoreload extension is already loaded. To reload it, use:\n",
      "  %reload_ext autoreload\n"
     ]
    }
   ],
   "source": [
    "# Deviation from Normality\n",
    "%load_ext autoreload\n",
    "%autoreload 2\n",
    "\n",
    "import pandas as pd\n",
    "import edhec_risk as erk"
   ]
  },
  {
   "cell_type": "code",
   "execution_count": 24,
   "metadata": {},
   "outputs": [
    {
     "name": "stderr",
     "output_type": "stream",
     "text": [
      "e:\\AnchorBlock_works\\edhec_risk.py:41: UserWarning: Parsing dates in %d/%m/%Y format when dayfirst=False (the default) was specified. Pass `dayfirst=True` or specify a format to silence this warning.\n",
      "  hfi = pd.read_csv('data/edhec-hedgefundindices.csv',\n"
     ]
    },
    {
     "data": {
      "text/html": [
       "<div>\n",
       "<style scoped>\n",
       "    .dataframe tbody tr th:only-of-type {\n",
       "        vertical-align: middle;\n",
       "    }\n",
       "\n",
       "    .dataframe tbody tr th {\n",
       "        vertical-align: top;\n",
       "    }\n",
       "\n",
       "    .dataframe thead th {\n",
       "        text-align: right;\n",
       "    }\n",
       "</style>\n",
       "<table border=\"1\" class=\"dataframe\">\n",
       "  <thead>\n",
       "    <tr style=\"text-align: right;\">\n",
       "      <th></th>\n",
       "      <th>Convertible Arbitrage</th>\n",
       "      <th>CTA Global</th>\n",
       "      <th>Distressed Securities</th>\n",
       "      <th>Emerging Markets</th>\n",
       "      <th>Equity Market Neutral</th>\n",
       "      <th>Event Driven</th>\n",
       "      <th>Fixed Income Arbitrage</th>\n",
       "      <th>Global Macro</th>\n",
       "      <th>Long/Short Equity</th>\n",
       "      <th>Merger Arbitrage</th>\n",
       "      <th>Relative Value</th>\n",
       "      <th>Short Selling</th>\n",
       "      <th>Funds Of Funds</th>\n",
       "    </tr>\n",
       "    <tr>\n",
       "      <th>date</th>\n",
       "      <th></th>\n",
       "      <th></th>\n",
       "      <th></th>\n",
       "      <th></th>\n",
       "      <th></th>\n",
       "      <th></th>\n",
       "      <th></th>\n",
       "      <th></th>\n",
       "      <th></th>\n",
       "      <th></th>\n",
       "      <th></th>\n",
       "      <th></th>\n",
       "      <th></th>\n",
       "    </tr>\n",
       "  </thead>\n",
       "  <tbody>\n",
       "    <tr>\n",
       "      <th>1997-01</th>\n",
       "      <td>0.0119</td>\n",
       "      <td>0.0393</td>\n",
       "      <td>0.0178</td>\n",
       "      <td>0.0791</td>\n",
       "      <td>0.0189</td>\n",
       "      <td>0.0213</td>\n",
       "      <td>0.0191</td>\n",
       "      <td>0.0573</td>\n",
       "      <td>0.0281</td>\n",
       "      <td>0.0150</td>\n",
       "      <td>0.0180</td>\n",
       "      <td>-0.0166</td>\n",
       "      <td>0.0317</td>\n",
       "    </tr>\n",
       "    <tr>\n",
       "      <th>1997-02</th>\n",
       "      <td>0.0123</td>\n",
       "      <td>0.0298</td>\n",
       "      <td>0.0122</td>\n",
       "      <td>0.0525</td>\n",
       "      <td>0.0101</td>\n",
       "      <td>0.0084</td>\n",
       "      <td>0.0122</td>\n",
       "      <td>0.0175</td>\n",
       "      <td>-0.0006</td>\n",
       "      <td>0.0034</td>\n",
       "      <td>0.0118</td>\n",
       "      <td>0.0426</td>\n",
       "      <td>0.0106</td>\n",
       "    </tr>\n",
       "    <tr>\n",
       "      <th>1997-03</th>\n",
       "      <td>0.0078</td>\n",
       "      <td>-0.0021</td>\n",
       "      <td>-0.0012</td>\n",
       "      <td>-0.0120</td>\n",
       "      <td>0.0016</td>\n",
       "      <td>-0.0023</td>\n",
       "      <td>0.0109</td>\n",
       "      <td>-0.0119</td>\n",
       "      <td>-0.0084</td>\n",
       "      <td>0.0060</td>\n",
       "      <td>0.0010</td>\n",
       "      <td>0.0778</td>\n",
       "      <td>-0.0077</td>\n",
       "    </tr>\n",
       "    <tr>\n",
       "      <th>1997-04</th>\n",
       "      <td>0.0086</td>\n",
       "      <td>-0.0170</td>\n",
       "      <td>0.0030</td>\n",
       "      <td>0.0119</td>\n",
       "      <td>0.0119</td>\n",
       "      <td>-0.0005</td>\n",
       "      <td>0.0130</td>\n",
       "      <td>0.0172</td>\n",
       "      <td>0.0084</td>\n",
       "      <td>-0.0001</td>\n",
       "      <td>0.0122</td>\n",
       "      <td>-0.0129</td>\n",
       "      <td>0.0009</td>\n",
       "    </tr>\n",
       "    <tr>\n",
       "      <th>1997-05</th>\n",
       "      <td>0.0156</td>\n",
       "      <td>-0.0015</td>\n",
       "      <td>0.0233</td>\n",
       "      <td>0.0315</td>\n",
       "      <td>0.0189</td>\n",
       "      <td>0.0346</td>\n",
       "      <td>0.0118</td>\n",
       "      <td>0.0108</td>\n",
       "      <td>0.0394</td>\n",
       "      <td>0.0197</td>\n",
       "      <td>0.0173</td>\n",
       "      <td>-0.0737</td>\n",
       "      <td>0.0275</td>\n",
       "    </tr>\n",
       "  </tbody>\n",
       "</table>\n",
       "</div>"
      ],
      "text/plain": [
       "         Convertible Arbitrage  CTA Global  Distressed Securities  \\\n",
       "date                                                                \n",
       "1997-01                 0.0119      0.0393                 0.0178   \n",
       "1997-02                 0.0123      0.0298                 0.0122   \n",
       "1997-03                 0.0078     -0.0021                -0.0012   \n",
       "1997-04                 0.0086     -0.0170                 0.0030   \n",
       "1997-05                 0.0156     -0.0015                 0.0233   \n",
       "\n",
       "         Emerging Markets  Equity Market Neutral  Event Driven  \\\n",
       "date                                                             \n",
       "1997-01            0.0791                 0.0189        0.0213   \n",
       "1997-02            0.0525                 0.0101        0.0084   \n",
       "1997-03           -0.0120                 0.0016       -0.0023   \n",
       "1997-04            0.0119                 0.0119       -0.0005   \n",
       "1997-05            0.0315                 0.0189        0.0346   \n",
       "\n",
       "         Fixed Income Arbitrage  Global Macro  Long/Short Equity  \\\n",
       "date                                                               \n",
       "1997-01                  0.0191        0.0573             0.0281   \n",
       "1997-02                  0.0122        0.0175            -0.0006   \n",
       "1997-03                  0.0109       -0.0119            -0.0084   \n",
       "1997-04                  0.0130        0.0172             0.0084   \n",
       "1997-05                  0.0118        0.0108             0.0394   \n",
       "\n",
       "         Merger Arbitrage  Relative Value  Short Selling  Funds Of Funds  \n",
       "date                                                                      \n",
       "1997-01            0.0150          0.0180        -0.0166          0.0317  \n",
       "1997-02            0.0034          0.0118         0.0426          0.0106  \n",
       "1997-03            0.0060          0.0010         0.0778         -0.0077  \n",
       "1997-04           -0.0001          0.0122        -0.0129          0.0009  \n",
       "1997-05            0.0197          0.0173        -0.0737          0.0275  "
      ]
     },
     "execution_count": 24,
     "metadata": {},
     "output_type": "execute_result"
    }
   ],
   "source": [
    "hfi = erk.get_hfi_returns()\n",
    "hfi.head()"
   ]
  },
  {
   "cell_type": "markdown",
   "metadata": {},
   "source": [
    "## Measure the skewness and kurtosis\n",
    "\n",
    "### Skewness\n",
    "\n",
    "$$ S(R) = \\frac{E[(R-E(R))^3]}{\\sigma_R^3}$$\n",
    "Here, S = Skewness <br>\n",
    "R = Returns <br>\n",
    "E(R) = Mean of Returns <br>\n",
    "sigma = volatility / standard deviation<br>\n",
    "\n",
    "-------------------------------------------------------------------------------------------------------------------------------------------------------------------------------------\n",
    "### Kurtosis:\n",
    "$$ K(R) = \\frac{E[(R-E(R))^4]}{\\sigma_R^4}$$\n",
    "\n",
    "--------------------------------------------------------------------------------------------------------------------------------------------------------------------------------------\n",
    "\n",
    "***The **Jarque-Bera** test is a statistical test used to assess whether a given set of data follows a normal distribution***"
   ]
  },
  {
   "cell_type": "code",
   "execution_count": 32,
   "metadata": {},
   "outputs": [
    {
     "data": {
      "text/html": [
       "<div>\n",
       "<style scoped>\n",
       "    .dataframe tbody tr th:only-of-type {\n",
       "        vertical-align: middle;\n",
       "    }\n",
       "\n",
       "    .dataframe tbody tr th {\n",
       "        vertical-align: top;\n",
       "    }\n",
       "\n",
       "    .dataframe thead th {\n",
       "        text-align: right;\n",
       "    }\n",
       "</style>\n",
       "<table border=\"1\" class=\"dataframe\">\n",
       "  <thead>\n",
       "    <tr style=\"text-align: right;\">\n",
       "      <th></th>\n",
       "      <th>Mean</th>\n",
       "      <th>Median</th>\n",
       "      <th>Not Skewed</th>\n",
       "    </tr>\n",
       "  </thead>\n",
       "  <tbody>\n",
       "    <tr>\n",
       "      <th>Convertible Arbitrage</th>\n",
       "      <td>0.005508</td>\n",
       "      <td>0.0065</td>\n",
       "      <td>False</td>\n",
       "    </tr>\n",
       "    <tr>\n",
       "      <th>CTA Global</th>\n",
       "      <td>0.004074</td>\n",
       "      <td>0.0014</td>\n",
       "      <td>True</td>\n",
       "    </tr>\n",
       "    <tr>\n",
       "      <th>Distressed Securities</th>\n",
       "      <td>0.006946</td>\n",
       "      <td>0.0089</td>\n",
       "      <td>False</td>\n",
       "    </tr>\n",
       "    <tr>\n",
       "      <th>Emerging Markets</th>\n",
       "      <td>0.006253</td>\n",
       "      <td>0.0096</td>\n",
       "      <td>False</td>\n",
       "    </tr>\n",
       "    <tr>\n",
       "      <th>Equity Market Neutral</th>\n",
       "      <td>0.004498</td>\n",
       "      <td>0.0051</td>\n",
       "      <td>False</td>\n",
       "    </tr>\n",
       "    <tr>\n",
       "      <th>Event Driven</th>\n",
       "      <td>0.006344</td>\n",
       "      <td>0.0084</td>\n",
       "      <td>False</td>\n",
       "    </tr>\n",
       "    <tr>\n",
       "      <th>Fixed Income Arbitrage</th>\n",
       "      <td>0.004365</td>\n",
       "      <td>0.0055</td>\n",
       "      <td>False</td>\n",
       "    </tr>\n",
       "    <tr>\n",
       "      <th>Global Macro</th>\n",
       "      <td>0.005403</td>\n",
       "      <td>0.0038</td>\n",
       "      <td>True</td>\n",
       "    </tr>\n",
       "    <tr>\n",
       "      <th>Long/Short Equity</th>\n",
       "      <td>0.006331</td>\n",
       "      <td>0.0079</td>\n",
       "      <td>False</td>\n",
       "    </tr>\n",
       "    <tr>\n",
       "      <th>Merger Arbitrage</th>\n",
       "      <td>0.005356</td>\n",
       "      <td>0.0060</td>\n",
       "      <td>False</td>\n",
       "    </tr>\n",
       "    <tr>\n",
       "      <th>Relative Value</th>\n",
       "      <td>0.005792</td>\n",
       "      <td>0.0067</td>\n",
       "      <td>False</td>\n",
       "    </tr>\n",
       "    <tr>\n",
       "      <th>Short Selling</th>\n",
       "      <td>-0.001701</td>\n",
       "      <td>-0.0053</td>\n",
       "      <td>True</td>\n",
       "    </tr>\n",
       "    <tr>\n",
       "      <th>Funds Of Funds</th>\n",
       "      <td>0.004262</td>\n",
       "      <td>0.0052</td>\n",
       "      <td>False</td>\n",
       "    </tr>\n",
       "  </tbody>\n",
       "</table>\n",
       "</div>"
      ],
      "text/plain": [
       "                            Mean  Median  Not Skewed\n",
       "Convertible Arbitrage   0.005508  0.0065       False\n",
       "CTA Global              0.004074  0.0014        True\n",
       "Distressed Securities   0.006946  0.0089       False\n",
       "Emerging Markets        0.006253  0.0096       False\n",
       "Equity Market Neutral   0.004498  0.0051       False\n",
       "Event Driven            0.006344  0.0084       False\n",
       "Fixed Income Arbitrage  0.004365  0.0055       False\n",
       "Global Macro            0.005403  0.0038        True\n",
       "Long/Short Equity       0.006331  0.0079       False\n",
       "Merger Arbitrage        0.005356  0.0060       False\n",
       "Relative Value          0.005792  0.0067       False\n",
       "Short Selling          -0.001701 -0.0053        True\n",
       "Funds Of Funds          0.004262  0.0052       False"
      ]
     },
     "execution_count": 32,
     "metadata": {},
     "output_type": "execute_result"
    }
   ],
   "source": [
    "skew_table = pd.concat([hfi.mean(), hfi.median(), hfi.mean() > hfi.median()],  axis = 'columns')\n",
    "skew_table.columns = ['Mean', 'Median', 'Not Skewed' ]\n",
    "skew_table\n"
   ]
  },
  {
   "cell_type": "code",
   "execution_count": 35,
   "metadata": {},
   "outputs": [
    {
     "data": {
      "text/plain": [
       "Fixed Income Arbitrage   -3.940320\n",
       "Convertible Arbitrage    -2.639592\n",
       "Equity Market Neutral    -2.124435\n",
       "Relative Value           -1.815470\n",
       "Event Driven             -1.409154\n",
       "Merger Arbitrage         -1.320083\n",
       "Distressed Securities    -1.300842\n",
       "Emerging Markets         -1.167067\n",
       "Long/Short Equity        -0.390227\n",
       "Funds Of Funds           -0.361783\n",
       "CTA Global                0.173699\n",
       "Short Selling             0.767975\n",
       "Global Macro              0.982922\n",
       "dtype: float64"
      ]
     },
     "execution_count": 35,
     "metadata": {},
     "output_type": "execute_result"
    }
   ],
   "source": [
    "erk.skewness(hfi).sort_values()"
   ]
  },
  {
   "cell_type": "code",
   "execution_count": 41,
   "metadata": {},
   "outputs": [
    {
     "data": {
      "text/plain": [
       "array([-2.63959223,  0.17369864, -1.30084204, -1.16706749, -2.12443538,\n",
       "       -1.40915356, -3.94032029,  0.98292188, -0.39022677, -1.32008333,\n",
       "       -1.81546975,  0.76797484, -0.36178308])"
      ]
     },
     "execution_count": 41,
     "metadata": {},
     "output_type": "execute_result"
    }
   ],
   "source": [
    "# Using in-built function for measuring skewness\n",
    "import scipy.stats\n",
    "scipy.stats.skew(hfi)"
   ]
  },
  {
   "cell_type": "code",
   "execution_count": 46,
   "metadata": {},
   "outputs": [
    {
     "data": {
      "text/plain": [
       "CTA Global                 2.952960\n",
       "Long/Short Equity          4.523893\n",
       "Global Macro               5.741679\n",
       "Short Selling              6.117772\n",
       "Funds Of Funds             7.070153\n",
       "Distressed Securities      7.889983\n",
       "Event Driven               8.035828\n",
       "Merger Arbitrage           8.738950\n",
       "Emerging Markets           9.250788\n",
       "Relative Value            12.121208\n",
       "Equity Market Neutral     17.218555\n",
       "Convertible Arbitrage     23.280834\n",
       "Fixed Income Arbitrage    29.842199\n",
       "dtype: float64"
      ]
     },
     "execution_count": 46,
     "metadata": {},
     "output_type": "execute_result"
    }
   ],
   "source": [
    "# Measuring Kurtosis\n",
    "erk.kurtosis(hfi).sort_values()"
   ]
  },
  {
   "cell_type": "code",
   "execution_count": 44,
   "metadata": {},
   "outputs": [
    {
     "data": {
      "text/plain": [
       "array([20.28083446, -0.04703963,  4.88998336,  6.25078841, 14.21855526,\n",
       "        5.03582817, 26.84219928,  2.74167945,  1.52389258,  5.73894979,\n",
       "        9.12120787,  3.11777175,  4.07015278])"
      ]
     },
     "execution_count": 44,
     "metadata": {},
     "output_type": "execute_result"
    }
   ],
   "source": [
    "# Using in-built function for measuring kurtosis\n",
    "scipy.stats.kurtosis(hfi)\n",
    "# There is a difference between the kurtosis function I created and in-built function is that \n",
    "# in the in-built function it shows \"excess\" kurtosis which means it substracts 3 from the kurtosis."
   ]
  },
  {
   "cell_type": "code",
   "execution_count": 47,
   "metadata": {},
   "outputs": [
    {
     "data": {
      "text/plain": [
       "SignificanceResult(statistic=25656.585999171337, pvalue=0.0)"
      ]
     },
     "execution_count": 47,
     "metadata": {},
     "output_type": "execute_result"
    }
   ],
   "source": [
    "# Seeing if the data is normally distributed or not using Jarque-bera\n",
    "\n",
    "# WRONG WAY OF DOING THIS\n",
    "scipy.stats.jarque_bera(hfi) # This line of code is wrong as it combines all the data of different company and gave a result"
   ]
  },
  {
   "cell_type": "code",
   "execution_count": 49,
   "metadata": {},
   "outputs": [
    {
     "data": {
      "text/plain": [
       "Convertible Arbitrage     False\n",
       "CTA Global                 True\n",
       "Distressed Securities     False\n",
       "Emerging Markets          False\n",
       "Equity Market Neutral     False\n",
       "Event Driven              False\n",
       "Fixed Income Arbitrage    False\n",
       "Global Macro              False\n",
       "Long/Short Equity         False\n",
       "Merger Arbitrage          False\n",
       "Relative Value            False\n",
       "Short Selling             False\n",
       "Funds Of Funds            False\n",
       "dtype: bool"
      ]
     },
     "execution_count": 49,
     "metadata": {},
     "output_type": "execute_result"
    }
   ],
   "source": [
    "#RIGHT WAY:\n",
    "hfi.aggregate(erk.is_normal_distributed)"
   ]
  },
  {
   "cell_type": "code",
   "execution_count": 50,
   "metadata": {},
   "outputs": [
    {
     "data": {
      "text/plain": [
       "SmallCap    4.410739\n",
       "LargeCap    0.233445\n",
       "dtype: float64"
      ]
     },
     "execution_count": 50,
     "metadata": {},
     "output_type": "execute_result"
    }
   ],
   "source": [
    "# Checking Skewness, Kurtosis and JB for Portoflio Formed dataset\n",
    "ffme = erk.get_ffme_returns()\n",
    "erk.skewness(ffme)"
   ]
  },
  {
   "cell_type": "code",
   "execution_count": 51,
   "metadata": {},
   "outputs": [
    {
     "data": {
      "text/plain": [
       "SmallCap    46.845008\n",
       "LargeCap    10.694654\n",
       "dtype: float64"
      ]
     },
     "execution_count": 51,
     "metadata": {},
     "output_type": "execute_result"
    }
   ],
   "source": [
    "erk.kurtosis(ffme)"
   ]
  },
  {
   "cell_type": "code",
   "execution_count": 52,
   "metadata": {},
   "outputs": [
    {
     "data": {
      "text/plain": [
       "SmallCap    False\n",
       "LargeCap    False\n",
       "dtype: bool"
      ]
     },
     "execution_count": 52,
     "metadata": {},
     "output_type": "execute_result"
    }
   ],
   "source": [
    "ffme.aggregate(erk.is_normal_distributed)"
   ]
  },
  {
   "cell_type": "markdown",
   "metadata": {},
   "source": [
    "--------------------------------------------------------------------------------------------------------------------------------------------------------------------------------------------------------------------------------------------------------------------------------------------------------------------------------------------------------------------------------------------------------------------------"
   ]
  },
  {
   "cell_type": "markdown",
   "metadata": {},
   "source": [
    "## Downside Risk Measures\n",
    "\n",
    "1. **Semi-Deviation** is the *volatility* of the *sub-sample* of **below average** or **below zero** returns\n",
    "\n",
    "    - Recognizes that investors are more concerned about uncertainty or volatility on the downside.\n",
    "    - It is a measure of volatility that considers only the outcomes below the mean or zero.\n",
    "    - Focuses on losses rather than gains.\n",
    "\n",
    "$$ σ_{semi} = \\sqrt{\\frac{1}{N} Σ_{R_{i} \\leq \\overline{R}} \\ (R_{i}- R)^2 }$$\n",
    "N = Number of returns that fall bellow the mean \n",
    "\n",
    "--------------------------------------------------------------------------------------------------------------------------------------------------------------------------------------------\n",
    "\n",
    "2. **Value at Risk(VaR):**\n",
    "    - Aims to estimate the maximum loss that can occur to a portfolio with a given probability.\n",
    "    - Defined at a specified confidence level, such as 99%, indicating the worst possible outcome after excluding<br> a certain percentage of extreme losses (e.g., 1%).\n",
    "    - VaR is expressed as a positive number and represents the magnitude of the maximum loss.\n",
    "\n",
    "*Question:* Consider the following sequence of monthly returns on a portfolio:  -4%, +5%, +2%, -7%, +1%, +0.5%,<br> -2%, -1%, -2%, +5%.What is the 90% monthly VaR for the portfolio? <br><br>\n",
    "*Answer:* Out of 10 monthly returns, the worst outcome is -7%, so 1 out of 10 returns is equal to -7%, and 9 out <br> of ten are better than -7%. The worst return after excluding the 10% worst return, that is after excluding the worst return, is<br> therefore -4%. VaR is typically expressed as a positive number (-4% means 4% loss): so 4% is the worst loss after excluding the 10% worst losses.\n",
    "\n",
    "------------------------------------------------------------------------------------------------------------------------------------------------------------------------------------\n",
    "\n",
    "3. **Beyond Value at Risk or Conditional Value at Risk (CVaR):**\n",
    "    - Recognizes that what happens beyond VaR may be of greater concern to investors.\n",
    "    - CVaR is the expected loss beyond the VaR threshold.\n",
    "    - It provides insight into the average loss in the tail of the distribution beyond the VaR.\n",
    "    - Expressed as a positive number, representing the magnitude of the expected loss.\n",
    "\n",
    "\n",
    "*Question:* Consider the following sequence of monthly returns on a portfolio:  -4%, +5%, +2%, -7%, +1%, +0.5%,<br> -2%, -1%, -2%, +5%. What is the 80% monthly CVaR for the portfolio? <br><br>\n",
    "*Answer:* Out of 10 monthly returns, the worst outcome is -7% and the second worst outcome is -4%, so<br> 8 out of 10 outcomes are better than -4%. The worst return after excluding the 20% worst return, that is after excluding the two<br> worst return, is therefore -2%. VaR is typically expressed as a positive number so 2% is the 80% VaR. The CVaR is given by the average<br> loss beyond the VaR, that is -(-7%-4%)/2=5.5%.\n",
    "\n",
    "<br><br>\n",
    "\n",
    "**VaR and CVaR provide meaningful indicators to estimate the maximum loss and expected loss beyond a certain confidence level.**"
   ]
  },
  {
   "cell_type": "code",
   "execution_count": 55,
   "metadata": {},
   "outputs": [
    {
     "data": {
      "text/plain": [
       "Convertible Arbitrage     0.019800\n",
       "CTA Global                0.022163\n",
       "Distressed Securities     0.020214\n",
       "Emerging Markets          0.037962\n",
       "Equity Market Neutral     0.009568\n",
       "Event Driven              0.019756\n",
       "Fixed Income Arbitrage    0.015972\n",
       "Global Macro              0.012588\n",
       "Long/Short Equity         0.021899\n",
       "Merger Arbitrage          0.011257\n",
       "Relative Value            0.013649\n",
       "Short Selling             0.042020\n",
       "Funds Of Funds            0.016471\n",
       "dtype: float64"
      ]
     },
     "execution_count": 55,
     "metadata": {},
     "output_type": "execute_result"
    }
   ],
   "source": [
    "# Downside Measures\n",
    "hfi[hfi<0].std(ddof=0)\n",
    "\n",
    "erk.semi_deviation(hfi)"
   ]
  },
  {
   "cell_type": "markdown",
   "metadata": {},
   "source": [
    "## Methodologies used to extimate Value at Risk (VaR):\n",
    "\n",
    "1. **Historical Volatility:**\n",
    "\n",
    "   - **Pros:** No assumptions about return distributions, no model risk.\n",
    "   - **Cons:** Highly sensitive to the sample period, subject to sample risk.\n",
    "\n",
    "2. **Parametric Gaussian Estimate:**\n",
    "\n",
    "   - **Pros:** Simple, only requires estimating mean and volatility.\n",
    "   - **Cons:** Assumes a Gaussian distribution, underestimates extreme risks due to thin tails.\n",
    "\n",
    "3. **Parametric Non-Gaussian:**\n",
    "\n",
    "   - **Pros:** Allows for various non-Gaussian distributions.\n",
    "   - **Cons:** Specification risk, as the chosen distribution may not match the actual data.\n",
    "4. **Cornish-Fisher VaR:**\n",
    "\n",
    "   - **Pros:** Semi-parametric, doesn't assume a specific return distribution, adjusts for skewness and kurtosis.\n",
    "   - **Cons:** Not as simple as Gaussian estimate, but provides more realistic estimates."
   ]
  },
  {
   "cell_type": "code",
   "execution_count": 56,
   "metadata": {},
   "outputs": [],
   "source": [
    "import numpy as np\n"
   ]
  },
  {
   "cell_type": "code",
   "execution_count": 65,
   "metadata": {},
   "outputs": [
    {
     "data": {
      "text/plain": [
       "Convertible Arbitrage     0.01576\n",
       "CTA Global                0.03169\n",
       "Distressed Securities     0.01966\n",
       "Emerging Markets          0.04247\n",
       "Equity Market Neutral     0.00814\n",
       "Event Driven              0.02535\n",
       "Fixed Income Arbitrage    0.00787\n",
       "Global Macro              0.01499\n",
       "Long/Short Equity         0.02598\n",
       "Merger Arbitrage          0.01047\n",
       "Relative Value            0.01174\n",
       "Short Selling             0.06783\n",
       "Funds Of Funds            0.02047\n",
       "dtype: float64"
      ]
     },
     "execution_count": 65,
     "metadata": {},
     "output_type": "execute_result"
    }
   ],
   "source": [
    "erk.var_historic(hfi)\n",
    "# To intepret the Historic var. Let us see the first one, Convertible Arbitrage, so the value \"0.01576\" basically means there is \n",
    "# 5% chance that you are going to lose \"0.01576\" amount at any given month and you can be 95% confident about that."
   ]
  },
  {
   "cell_type": "code",
   "execution_count": 66,
   "metadata": {},
   "outputs": [
    {
     "data": {
      "text/plain": [
       "-1.6448536269514729"
      ]
     },
     "execution_count": 66,
     "metadata": {},
     "output_type": "execute_result"
    }
   ],
   "source": [
    "from scipy.stats import norm\n",
    "\n",
    "norm.ppf(0.05) # Returns the z-score"
   ]
  },
  {
   "cell_type": "code",
   "execution_count": null,
   "metadata": {},
   "outputs": [],
   "source": []
  }
 ],
 "metadata": {
  "kernelspec": {
   "display_name": "Python 3",
   "language": "python",
   "name": "python3"
  },
  "language_info": {
   "codemirror_mode": {
    "name": "ipython",
    "version": 3
   },
   "file_extension": ".py",
   "mimetype": "text/x-python",
   "name": "python",
   "nbconvert_exporter": "python",
   "pygments_lexer": "ipython3",
   "version": "3.11.4"
  }
 },
 "nbformat": 4,
 "nbformat_minor": 2
}

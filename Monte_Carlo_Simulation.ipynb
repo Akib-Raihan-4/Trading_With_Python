{
 "cells": [
  {
   "cell_type": "code",
   "execution_count": 22,
   "metadata": {},
   "outputs": [],
   "source": [
    "import pandas as pd\n",
    "import numpy as np\n",
    "import matplotlib.pyplot as plt\n",
    "import datetime as dt\n",
    "from pandas_datareader import data as pdr\n",
    "import yfinance as yf\n",
    "\n",
    "yf.pdr_override()"
   ]
  },
  {
   "cell_type": "code",
   "execution_count": 23,
   "metadata": {},
   "outputs": [],
   "source": [
    "#Import data\n",
    "\n",
    "def get_data(stocks, start, end):\n",
    "    stockData = pdr.get_data_yahoo(stocks, start, end)\n",
    "    stockData = stockData['Close']\n",
    "    returns = stockData.pct_change()\n",
    "    meanReturns = returns.mean()\n",
    "    covMatrix = returns.cov()\n",
    "    return meanReturns, covMatrix\n"
   ]
  },
  {
   "cell_type": "code",
   "execution_count": 38,
   "metadata": {},
   "outputs": [
    {
     "name": "stdout",
     "output_type": "stream",
     "text": [
      "2023-02-06 13:29:27.073189\n",
      "2023-12-03 13:29:27.073189\n",
      "[*********************100%%**********************]  2 of 2 completed\n",
      "          BHP.AX    CBA.AX\n",
      "BHP.AX  0.000204  0.000038\n",
      "CBA.AX  0.000038  0.000107\n"
     ]
    }
   ],
   "source": [
    "stockList = [\"CBA\", \"BHP\", \"TLS\", \"NAB\", \"WBC\", \"STO\"]\n",
    "stocks = [stock+ \".AX\" for stock in stockList]\n",
    "\n",
    "endDate = dt.datetime.now()\n",
    "startDate = endDate - dt.timedelta(days=300)\n",
    "\n",
    "# print(startDate)\n",
    "# print(endDate)\n",
    "\n",
    "\n",
    "# stockData = pdr.get_data_yahoo([\"CBA.AX\", \"BHP.AX\"], startDate, endDate)['Close'].pct_change().cov()\n",
    "# print(stockData)"
   ]
  },
  {
   "cell_type": "code",
   "execution_count": 36,
   "metadata": {},
   "outputs": [
    {
     "name": "stdout",
     "output_type": "stream",
     "text": [
      "[                       0%%                      ]"
     ]
    },
    {
     "name": "stdout",
     "output_type": "stream",
     "text": [
      "[*********************100%%**********************]  6 of 6 completed\n",
      "BHP.AX   -0.000086\n",
      "CBA.AX   -0.000237\n",
      "NAB.AX   -0.000470\n",
      "STO.AX    0.000023\n",
      "TLS.AX   -0.000386\n",
      "WBC.AX   -0.000483\n",
      "dtype: float64\n"
     ]
    },
    {
     "name": "stderr",
     "output_type": "stream",
     "text": [
      "/tmp/ipykernel_6107/934646611.py:6: FutureWarning: The default fill_method='pad' in DataFrame.pct_change is deprecated and will be removed in a future version. Either fill in any non-leading NA values prior to calling pct_change or specify 'fill_method=None' to not fill NA values.\n",
      "  returns = stockData.pct_change()\n"
     ]
    },
    {
     "data": {
      "text/html": [
       "<div>\n",
       "<style scoped>\n",
       "    .dataframe tbody tr th:only-of-type {\n",
       "        vertical-align: middle;\n",
       "    }\n",
       "\n",
       "    .dataframe tbody tr th {\n",
       "        vertical-align: top;\n",
       "    }\n",
       "\n",
       "    .dataframe thead th {\n",
       "        text-align: right;\n",
       "    }\n",
       "</style>\n",
       "<table border=\"1\" class=\"dataframe\">\n",
       "  <thead>\n",
       "    <tr style=\"text-align: right;\">\n",
       "      <th></th>\n",
       "      <th>BHP.AX</th>\n",
       "      <th>CBA.AX</th>\n",
       "      <th>NAB.AX</th>\n",
       "      <th>STO.AX</th>\n",
       "      <th>TLS.AX</th>\n",
       "      <th>WBC.AX</th>\n",
       "    </tr>\n",
       "  </thead>\n",
       "  <tbody>\n",
       "    <tr>\n",
       "      <th>BHP.AX</th>\n",
       "      <td>0.000204</td>\n",
       "      <td>0.000038</td>\n",
       "      <td>0.000037</td>\n",
       "      <td>0.000074</td>\n",
       "      <td>0.000003</td>\n",
       "      <td>0.000041</td>\n",
       "    </tr>\n",
       "    <tr>\n",
       "      <th>CBA.AX</th>\n",
       "      <td>0.000038</td>\n",
       "      <td>0.000107</td>\n",
       "      <td>0.000091</td>\n",
       "      <td>0.000033</td>\n",
       "      <td>0.000020</td>\n",
       "      <td>0.000086</td>\n",
       "    </tr>\n",
       "    <tr>\n",
       "      <th>NAB.AX</th>\n",
       "      <td>0.000037</td>\n",
       "      <td>0.000091</td>\n",
       "      <td>0.000150</td>\n",
       "      <td>0.000036</td>\n",
       "      <td>0.000029</td>\n",
       "      <td>0.000105</td>\n",
       "    </tr>\n",
       "    <tr>\n",
       "      <th>STO.AX</th>\n",
       "      <td>0.000074</td>\n",
       "      <td>0.000033</td>\n",
       "      <td>0.000036</td>\n",
       "      <td>0.000197</td>\n",
       "      <td>0.000006</td>\n",
       "      <td>0.000037</td>\n",
       "    </tr>\n",
       "    <tr>\n",
       "      <th>TLS.AX</th>\n",
       "      <td>0.000003</td>\n",
       "      <td>0.000020</td>\n",
       "      <td>0.000029</td>\n",
       "      <td>0.000006</td>\n",
       "      <td>0.000069</td>\n",
       "      <td>0.000022</td>\n",
       "    </tr>\n",
       "    <tr>\n",
       "      <th>WBC.AX</th>\n",
       "      <td>0.000041</td>\n",
       "      <td>0.000086</td>\n",
       "      <td>0.000105</td>\n",
       "      <td>0.000037</td>\n",
       "      <td>0.000022</td>\n",
       "      <td>0.000124</td>\n",
       "    </tr>\n",
       "  </tbody>\n",
       "</table>\n",
       "</div>"
      ],
      "text/plain": [
       "          BHP.AX    CBA.AX    NAB.AX    STO.AX    TLS.AX    WBC.AX\n",
       "BHP.AX  0.000204  0.000038  0.000037  0.000074  0.000003  0.000041\n",
       "CBA.AX  0.000038  0.000107  0.000091  0.000033  0.000020  0.000086\n",
       "NAB.AX  0.000037  0.000091  0.000150  0.000036  0.000029  0.000105\n",
       "STO.AX  0.000074  0.000033  0.000036  0.000197  0.000006  0.000037\n",
       "TLS.AX  0.000003  0.000020  0.000029  0.000006  0.000069  0.000022\n",
       "WBC.AX  0.000041  0.000086  0.000105  0.000037  0.000022  0.000124"
      ]
     },
     "execution_count": 36,
     "metadata": {},
     "output_type": "execute_result"
    }
   ],
   "source": [
    "meanReturns, covMatrix = get_data(stocks, startDate, endDate)\n",
    "print(meanReturns)\n",
    "covMatrix"
   ]
  },
  {
   "cell_type": "code",
   "execution_count": 44,
   "metadata": {},
   "outputs": [
    {
     "name": "stdout",
     "output_type": "stream",
     "text": [
      "[0.59284661 0.42844859 0.04052587 0.20023301 0.51506444 0.75913208]\n",
      "2.536250600890744\n",
      "1.0\n",
      "[0.23374922 0.16892991 0.01597865 0.07894843 0.20308105 0.29931273]\n"
     ]
    }
   ],
   "source": [
    "weights = np.random.random(len(meanReturns))\n",
    "print(weights)\n",
    "print(np.sum(weights))\n",
    "\n",
    "weights = weights / np.sum(weights)\n",
    "\n",
    "print(sum(weights))\n",
    "print(weights)"
   ]
  },
  {
   "cell_type": "code",
   "execution_count": null,
   "metadata": {},
   "outputs": [],
   "source": []
  }
 ],
 "metadata": {
  "kernelspec": {
   "display_name": "Python 3",
   "language": "python",
   "name": "python3"
  },
  "language_info": {
   "codemirror_mode": {
    "name": "ipython",
    "version": 3
   },
   "file_extension": ".py",
   "mimetype": "text/x-python",
   "name": "python",
   "nbconvert_exporter": "python",
   "pygments_lexer": "ipython3",
   "version": "3.10.12"
  }
 },
 "nbformat": 4,
 "nbformat_minor": 2
}

{
 "cells": [
  {
   "cell_type": "code",
   "execution_count": 1,
   "metadata": {},
   "outputs": [
    {
     "name": "stdout",
     "output_type": "stream",
     "text": [
      "Korea_commodity 2023-12-05 21:01:08.694331\n",
      "Korea_commodity 2023-12-05 09:01:34.202227\n",
      "csvdir <no ingestions>\n",
      "quandl <no ingestions>\n",
      "quantopian-quandl <no ingestions>\n"
     ]
    }
   ],
   "source": [
    "!zipline bundles"
   ]
  },
  {
   "cell_type": "code",
   "execution_count": 2,
   "metadata": {},
   "outputs": [
    {
     "name": "stdout",
     "output_type": "stream",
     "text": [
      "[2023-12-06T03:01:51+0600-INFO][zipline.data.bundles.core]\n",
      " Ingesting Korea_commodity\n",
      "\u001b[?25lLoading custom pricing data:   [####################################]  100%\u001b[?25h\n",
      "\u001b[?25lMerging daily equity files:  [####################################]   \u001b[?25h\n"
     ]
    }
   ],
   "source": [
    "!zipline ingest -b Korea_commodity"
   ]
  },
  {
   "cell_type": "code",
   "execution_count": 3,
   "metadata": {},
   "outputs": [],
   "source": [
    "from zipline.api import order_target, record, symbol\n",
    "\n",
    "\n",
    "def initialize(context):\n",
    "    context.i = 0\n",
    "    context.asset = symbol('AAPL')\n",
    "\n",
    "\n",
    "def handle_data(context, data):\n",
    "    # Skip first 300 days to get full windows\n",
    "    context.i += 1\n",
    "    if context.i < 300:\n",
    "        return\n",
    "\n",
    "    # Compute averages\n",
    "    # data.history() has to be called with the same params\n",
    "    # from above and returns a pandas dataframe.\n",
    "    short_mavg = data.history(context.asset, 'price', bar_count=100, frequency=\"1d\").mean()\n",
    "    long_mavg = data.history(context.asset, 'price', bar_count=300, frequency=\"1d\").mean()\n",
    "\n",
    "    # Trading logic\n",
    "    if short_mavg > long_mavg:\n",
    "        # order_target orders as many shares as needed to\n",
    "        # achieve the desired number of shares.\n",
    "        order_target(context.asset, 100)\n",
    "    elif short_mavg < long_mavg:\n",
    "        order_target(context.asset, 0)\n",
    "\n",
    "    # Save values for later inspection\n",
    "    record(AAPL=data.current(context.asset, 'price'),\n",
    "           short_mavg=short_mavg,\n",
    "           long_mavg=long_mavg)"
   ]
  },
  {
   "cell_type": "code",
   "execution_count": 9,
   "metadata": {},
   "outputs": [],
   "source": [
    "import pandas as pd\n",
    "from zipline.utils.calendar_utils import get_calendar\n",
    "from zipline import run_algorithm\n",
    "calendar = get_calendar('XKRX')"
   ]
  },
  {
   "cell_type": "code",
   "execution_count": 10,
   "metadata": {},
   "outputs": [],
   "source": [
    "start_date = pd.to_datetime('2022-11-22 00:00:00.000000', format='%Y-%m-%d %H:%M:%S.%f')\n",
    "end_date = pd.to_datetime('2023-05-02 00:00:00.000000', format='%Y-%m-%d %H:%M:%S.%f')"
   ]
  },
  {
   "cell_type": "code",
   "execution_count": 11,
   "metadata": {},
   "outputs": [
    {
     "name": "stdout",
     "output_type": "stream",
     "text": [
      "Unexpected exception formatting exception. Falling back to standard exception\n"
     ]
    },
    {
     "name": "stderr",
     "output_type": "stream",
     "text": [
      "Traceback (most recent call last):\n",
      "  File \"/home/popeye/.local/lib/python3.10/site-packages/zipline/assets/assets.py\", line 783, in _lookup_symbol_strict\n",
      "    owners = ownership_map[company_symbol, share_class_symbol]\n",
      "KeyError: ('AAPL', '')\n",
      "\n",
      "The above exception was the direct cause of the following exception:\n",
      "\n",
      "Traceback (most recent call last):\n",
      "  File \"/home/popeye/.local/lib/python3.10/site-packages/IPython/core/interactiveshell.py\", line 3550, in run_code\n",
      "    exec(code_obj, self.user_global_ns, self.user_ns)\n",
      "  File \"/tmp/ipykernel_4940/1196516867.py\", line 1, in <module>\n",
      "    results = run_algorithm(start=start_date,\n",
      "  File \"/home/popeye/.local/lib/python3.10/site-packages/zipline/utils/run_algo.py\", line 397, in run_algorithm\n",
      "    return _run(\n",
      "  File \"/home/popeye/.local/lib/python3.10/site-packages/zipline/utils/run_algo.py\", line 227, in _run\n",
      "    ).run()\n",
      "  File \"/home/popeye/.local/lib/python3.10/site-packages/zipline/algorithm.py\", line 625, in run\n",
      "    for perf in self.get_generator():\n",
      "  File \"/home/popeye/.local/lib/python3.10/site-packages/zipline/algorithm.py\", line 601, in get_generator\n",
      "    return self._create_generator(self.sim_params)\n",
      "  File \"/home/popeye/.local/lib/python3.10/site-packages/zipline/algorithm.py\", line 573, in _create_generator\n",
      "    self.initialize(**self.initialize_kwargs)\n",
      "  File \"/home/popeye/.local/lib/python3.10/site-packages/zipline/algorithm.py\", line 424, in initialize\n",
      "    self._initialize(self, *args, **kwargs)\n",
      "  File \"/tmp/ipykernel_4940/2494738498.py\", line 6, in initialize\n",
      "    context.asset = symbol('AAPL')\n",
      "  File \"/home/popeye/.local/lib/python3.10/site-packages/zipline/utils/api_support.py\", line 55, in wrapped\n",
      "    return getattr(algo_instance, f.__name__)(*args, **kwargs)\n",
      "  File \"/home/popeye/.local/lib/python3.10/site-packages/zipline/algorithm.py\", line -1, in symbol\n",
      "  File \"/home/popeye/.local/lib/python3.10/site-packages/zipline/algorithm.py\", line 1070, in symbol\n",
      "    return self.asset_finder.lookup_symbol(\n",
      "  File \"/home/popeye/.local/lib/python3.10/site-packages/zipline/assets/assets.py\", line 975, in lookup_symbol\n",
      "    return f(\n",
      "  File \"/home/popeye/.local/lib/python3.10/site-packages/zipline/assets/assets.py\", line 787, in _lookup_symbol_strict\n",
      "    raise SymbolNotFound(symbol=symbol) from exc\n",
      "zipline.errors.SymbolNotFound: Symbol 'AAPL' was not found.\n",
      "\n",
      "During handling of the above exception, another exception occurred:\n",
      "\n",
      "Traceback (most recent call last):\n",
      "  File \"/home/popeye/.local/lib/python3.10/site-packages/IPython/core/interactiveshell.py\", line 2144, in showtraceback\n",
      "    stb = self.InteractiveTB.structured_traceback(\n",
      "  File \"/home/popeye/.local/lib/python3.10/site-packages/IPython/core/ultratb.py\", line 1435, in structured_traceback\n",
      "    return FormattedTB.structured_traceback(\n",
      "  File \"/home/popeye/.local/lib/python3.10/site-packages/IPython/core/ultratb.py\", line 1326, in structured_traceback\n",
      "    return VerboseTB.structured_traceback(\n",
      "  File \"/home/popeye/.local/lib/python3.10/site-packages/IPython/core/ultratb.py\", line 1173, in structured_traceback\n",
      "    formatted_exception = self.format_exception_as_a_whole(etype, evalue, etb, number_of_lines_of_context,\n",
      "  File \"/home/popeye/.local/lib/python3.10/site-packages/IPython/core/ultratb.py\", line 1088, in format_exception_as_a_whole\n",
      "    frames.append(self.format_record(record))\n",
      "  File \"/home/popeye/.local/lib/python3.10/site-packages/IPython/core/ultratb.py\", line 970, in format_record\n",
      "    frame_info.lines, Colors, self.has_colors, lvals\n",
      "  File \"/home/popeye/.local/lib/python3.10/site-packages/IPython/core/ultratb.py\", line 792, in lines\n",
      "    return self._sd.lines\n",
      "  File \"/home/popeye/.local/lib/python3.10/site-packages/stack_data/utils.py\", line 145, in cached_property_wrapper\n",
      "    value = obj.__dict__[self.func.__name__] = self.func(obj)\n",
      "  File \"/home/popeye/.local/lib/python3.10/site-packages/stack_data/core.py\", line 734, in lines\n",
      "    pieces = self.included_pieces\n",
      "  File \"/home/popeye/.local/lib/python3.10/site-packages/stack_data/utils.py\", line 145, in cached_property_wrapper\n",
      "    value = obj.__dict__[self.func.__name__] = self.func(obj)\n",
      "  File \"/home/popeye/.local/lib/python3.10/site-packages/stack_data/core.py\", line 681, in included_pieces\n",
      "    pos = scope_pieces.index(self.executing_piece)\n",
      "  File \"/home/popeye/.local/lib/python3.10/site-packages/stack_data/utils.py\", line 145, in cached_property_wrapper\n",
      "    value = obj.__dict__[self.func.__name__] = self.func(obj)\n",
      "  File \"/home/popeye/.local/lib/python3.10/site-packages/stack_data/core.py\", line 660, in executing_piece\n",
      "    return only(\n",
      "  File \"/home/popeye/.local/lib/python3.10/site-packages/executing/executing.py\", line 116, in only\n",
      "    raise NotOneValueFound('Expected one value, found 0')\n",
      "executing.executing.NotOneValueFound: Expected one value, found 0\n"
     ]
    }
   ],
   "source": [
    "results = run_algorithm(start=start_date,\n",
    "                         end=end_date,\n",
    "                         initialize=initialize,\n",
    "                         handle_data=handle_data,\n",
    "                         capital_base=10000,\n",
    "                         benchmark_returns=None,\n",
    "                         trading_calendar=calendar,\n",
    "                         bundle='Korea_commodity',\n",
    "                         data_frequency='daily',\n",
    "                         )"
   ]
  },
  {
   "cell_type": "code",
   "execution_count": null,
   "metadata": {},
   "outputs": [],
   "source": []
  }
 ],
 "metadata": {
  "kernelspec": {
   "display_name": "Python 3",
   "language": "python",
   "name": "python3"
  },
  "language_info": {
   "codemirror_mode": {
    "name": "ipython",
    "version": 3
   },
   "file_extension": ".py",
   "mimetype": "text/x-python",
   "name": "python",
   "nbconvert_exporter": "python",
   "pygments_lexer": "ipython3",
   "version": "3.10.12"
  }
 },
 "nbformat": 4,
 "nbformat_minor": 2
}

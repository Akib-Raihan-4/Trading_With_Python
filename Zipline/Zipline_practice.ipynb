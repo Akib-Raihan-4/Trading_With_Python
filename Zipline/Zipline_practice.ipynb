{
 "cells": [
  {
   "cell_type": "code",
   "execution_count": 2,
   "metadata": {},
   "outputs": [],
   "source": [
    "import zipline\n"
   ]
  },
  {
   "cell_type": "code",
   "execution_count": 11,
   "metadata": {},
   "outputs": [],
   "source": [
    "from zipline.api import order_target, record, symbol\n",
    "\n",
    "\n",
    "def initialize(context):\n",
    "    context.i = 0\n",
    "    context.asset = symbol('AAPL')\n",
    "\n",
    "\n",
    "def handle_data(context, data):\n",
    "    # Skip first 300 days to get full windows\n",
    "    context.i += 1\n",
    "    if context.i < 300:\n",
    "        return\n",
    "\n",
    "    # Compute averages\n",
    "    # data.history() has to be called with the same params\n",
    "    # from above and returns a pandas dataframe.\n",
    "    short_mavg = data.history(context.asset, 'price', bar_count=100, frequency=\"1d\").mean()\n",
    "    long_mavg = data.history(context.asset, 'price', bar_count=300, frequency=\"1d\").mean()\n",
    "\n",
    "    # Trading logic\n",
    "    if short_mavg > long_mavg:\n",
    "        # order_target orders as many shares as needed to\n",
    "        # achieve the desired number of shares.\n",
    "        order_target(context.asset, 100)\n",
    "    elif short_mavg < long_mavg:\n",
    "        order_target(context.asset, 0)\n",
    "\n",
    "    # Save values for later inspection\n",
    "    record(AAPL=data.current(context.asset, 'price'),\n",
    "           short_mavg=short_mavg,\n",
    "           long_mavg=long_mavg)"
   ]
  },
  {
   "cell_type": "code",
   "execution_count": 7,
   "metadata": {},
   "outputs": [
    {
     "name": "stderr",
     "output_type": "stream",
     "text": [
      "/tmp/ipykernel_10765/4250673627.py:5: UserWarning: Overwriting bundle with name 'btc_bundle'\n",
      "  register(\n"
     ]
    },
    {
     "data": {
      "text/plain": [
       "<bound method CSVDIRBundle.ingest of <zipline.data.bundles.csvdir.CSVDIRBundle object at 0x7f3a1c84fe50>>"
      ]
     },
     "execution_count": 7,
     "metadata": {},
     "output_type": "execute_result"
    }
   ],
   "source": [
    "import pandas as pd\n",
    "from zipline.data.bundles import register\n",
    "from zipline.data.bundles.csvdir import csvdir_equities\n",
    "\n",
    "register(\n",
    "    'btc_bundle',  \n",
    "    csvdir_equities(\n",
    "        ['daily'],\n",
    "        'custom_data'  \n",
    "    ),\n",
    "    calendar_name='us_futures',\n",
    ")\n"
   ]
  },
  {
   "cell_type": "code",
   "execution_count": 5,
   "metadata": {},
   "outputs": [
    {
     "ename": "ValueError",
     "evalue": "no data for bundle 'btc_bundle' on or before 2023-12-04 06:34:12.416920+00:00\nmaybe you need to run: $ zipline ingest -b btc_bundle",
     "output_type": "error",
     "traceback": [
      "\u001b[0;31m---------------------------------------------------------------------------\u001b[0m",
      "\u001b[0;31mFileNotFoundError\u001b[0m                         Traceback (most recent call last)",
      "File \u001b[0;32m~/.local/lib/python3.10/site-packages/zipline/data/bundles/core.py:488\u001b[0m, in \u001b[0;36m_make_bundle_core.<locals>.most_recent_data\u001b[0;34m(bundle_name, timestamp, environ)\u001b[0m\n\u001b[1;32m    487\u001b[0m \u001b[39mtry\u001b[39;00m:\n\u001b[0;32m--> 488\u001b[0m     candidates \u001b[39m=\u001b[39m os\u001b[39m.\u001b[39;49mlistdir(\n\u001b[1;32m    489\u001b[0m         pth\u001b[39m.\u001b[39;49mdata_path([bundle_name], environ\u001b[39m=\u001b[39;49menviron),\n\u001b[1;32m    490\u001b[0m     )\n\u001b[1;32m    491\u001b[0m     \u001b[39mreturn\u001b[39;00m pth\u001b[39m.\u001b[39mdata_path(\n\u001b[1;32m    492\u001b[0m         [\n\u001b[1;32m    493\u001b[0m             bundle_name,\n\u001b[0;32m   (...)\u001b[0m\n\u001b[1;32m    499\u001b[0m         environ\u001b[39m=\u001b[39menviron,\n\u001b[1;32m    500\u001b[0m     )\n",
      "\u001b[0;31mFileNotFoundError\u001b[0m: [Errno 2] No such file or directory: '/home/popeye/.zipline/data/btc_bundle'",
      "\nDuring handling of the above exception, another exception occurred:\n",
      "\u001b[0;31mValueError\u001b[0m                                Traceback (most recent call last)",
      "\u001b[1;32m/home/popeye/Anchorblock/Trading_With_Python/Zipline/Zipline_practice.ipynb Cell 4\u001b[0m line \u001b[0;36m5\n\u001b[1;32m      <a href='vscode-notebook-cell:/home/popeye/Anchorblock/Trading_With_Python/Zipline/Zipline_practice.ipynb#W6sZmlsZQ%3D%3D?line=1'>2</a>\u001b[0m \u001b[39mfrom\u001b[39;00m \u001b[39mzipline\u001b[39;00m\u001b[39m.\u001b[39;00m\u001b[39mdata\u001b[39;00m \u001b[39mimport\u001b[39;00m bundles\n\u001b[1;32m      <a href='vscode-notebook-cell:/home/popeye/Anchorblock/Trading_With_Python/Zipline/Zipline_practice.ipynb#W6sZmlsZQ%3D%3D?line=3'>4</a>\u001b[0m bundle_name \u001b[39m=\u001b[39m \u001b[39m\"\u001b[39m\u001b[39mbtc_bundle\u001b[39m\u001b[39m\"\u001b[39m\n\u001b[0;32m----> <a href='vscode-notebook-cell:/home/popeye/Anchorblock/Trading_With_Python/Zipline/Zipline_practice.ipynb#W6sZmlsZQ%3D%3D?line=4'>5</a>\u001b[0m bundle_data \u001b[39m=\u001b[39m bundles\u001b[39m.\u001b[39;49mload(bundle_name)\n\u001b[1;32m      <a href='vscode-notebook-cell:/home/popeye/Anchorblock/Trading_With_Python/Zipline/Zipline_practice.ipynb#W6sZmlsZQ%3D%3D?line=6'>7</a>\u001b[0m \u001b[39mprint\u001b[39m(bundle_data)\n",
      "File \u001b[0;32m~/.local/lib/python3.10/site-packages/zipline/data/bundles/core.py:532\u001b[0m, in \u001b[0;36m_make_bundle_core.<locals>.load\u001b[0;34m(name, environ, timestamp)\u001b[0m\n\u001b[1;32m    530\u001b[0m \u001b[39mif\u001b[39;00m timestamp \u001b[39mis\u001b[39;00m \u001b[39mNone\u001b[39;00m:\n\u001b[1;32m    531\u001b[0m     timestamp \u001b[39m=\u001b[39m pd\u001b[39m.\u001b[39mTimestamp\u001b[39m.\u001b[39mutcnow()\n\u001b[0;32m--> 532\u001b[0m timestr \u001b[39m=\u001b[39m most_recent_data(name, timestamp, environ\u001b[39m=\u001b[39;49menviron)\n\u001b[1;32m    533\u001b[0m \u001b[39mreturn\u001b[39;00m BundleData(\n\u001b[1;32m    534\u001b[0m     asset_finder\u001b[39m=\u001b[39mAssetFinder(\n\u001b[1;32m    535\u001b[0m         asset_db_path(name, timestr, environ\u001b[39m=\u001b[39menviron),\n\u001b[0;32m   (...)\u001b[0m\n\u001b[1;32m    545\u001b[0m     ),\n\u001b[1;32m    546\u001b[0m )\n",
      "File \u001b[0;32m~/.local/lib/python3.10/site-packages/zipline/data/bundles/core.py:504\u001b[0m, in \u001b[0;36m_make_bundle_core.<locals>.most_recent_data\u001b[0;34m(bundle_name, timestamp, environ)\u001b[0m\n\u001b[1;32m    502\u001b[0m \u001b[39mif\u001b[39;00m \u001b[39mgetattr\u001b[39m(e, \u001b[39m\"\u001b[39m\u001b[39merrno\u001b[39m\u001b[39m\"\u001b[39m, errno\u001b[39m.\u001b[39mENOENT) \u001b[39m!=\u001b[39m errno\u001b[39m.\u001b[39mENOENT:\n\u001b[1;32m    503\u001b[0m     \u001b[39mraise\u001b[39;00m\n\u001b[0;32m--> 504\u001b[0m \u001b[39mraise\u001b[39;00m \u001b[39mValueError\u001b[39;00m(\n\u001b[1;32m    505\u001b[0m     \u001b[39m\"\u001b[39m\u001b[39mno data for bundle \u001b[39m\u001b[39m{bundle!r}\u001b[39;00m\u001b[39m on or before \u001b[39m\u001b[39m{timestamp}\u001b[39;00m\u001b[39m\\n\u001b[39;00m\u001b[39m\"\u001b[39m\n\u001b[1;32m    506\u001b[0m     \u001b[39m\"\u001b[39m\u001b[39mmaybe you need to run: $ zipline ingest -b \u001b[39m\u001b[39m{bundle}\u001b[39;00m\u001b[39m\"\u001b[39m\u001b[39m.\u001b[39mformat(\n\u001b[1;32m    507\u001b[0m         bundle\u001b[39m=\u001b[39mbundle_name,\n\u001b[1;32m    508\u001b[0m         timestamp\u001b[39m=\u001b[39mtimestamp,\n\u001b[1;32m    509\u001b[0m     ),\n\u001b[1;32m    510\u001b[0m )\n",
      "\u001b[0;31mValueError\u001b[0m: no data for bundle 'btc_bundle' on or before 2023-12-04 06:34:12.416920+00:00\nmaybe you need to run: $ zipline ingest -b btc_bundle"
     ]
    }
   ],
   "source": [
    "import pandas as pd\n",
    "from zipline.data import bundles\n",
    "\n",
    "bundle_name = \"btc_bundle\"\n",
    "bundle_data = bundles.load(bundle_name)\n",
    "\n",
    "print(bundle_data)"
   ]
  },
  {
   "cell_type": "code",
   "execution_count": 8,
   "metadata": {},
   "outputs": [
    {
     "ename": "SyntaxError",
     "evalue": "invalid syntax (1536868552.py, line 1)",
     "output_type": "error",
     "traceback": [
      "\u001b[0;36m  Cell \u001b[0;32mIn[8], line 1\u001b[0;36m\u001b[0m\n\u001b[0;31m    zipline ingest -b btc_bundle\u001b[0m\n\u001b[0m            ^\u001b[0m\n\u001b[0;31mSyntaxError\u001b[0m\u001b[0;31m:\u001b[0m invalid syntax\n"
     ]
    }
   ],
   "source": []
  },
  {
   "cell_type": "code",
   "execution_count": null,
   "metadata": {},
   "outputs": [],
   "source": []
  }
 ],
 "metadata": {
  "kernelspec": {
   "display_name": "Python 3",
   "language": "python",
   "name": "python3"
  },
  "language_info": {
   "codemirror_mode": {
    "name": "ipython",
    "version": 3
   },
   "file_extension": ".py",
   "mimetype": "text/x-python",
   "name": "python",
   "nbconvert_exporter": "python",
   "pygments_lexer": "ipython3",
   "version": "3.10.12"
  }
 },
 "nbformat": 4,
 "nbformat_minor": 2
}

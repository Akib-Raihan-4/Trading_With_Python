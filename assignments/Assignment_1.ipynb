{
 "cells": [
  {
   "cell_type": "code",
   "execution_count": 40,
   "metadata": {},
   "outputs": [],
   "source": [
    "import yfinance as yf\n",
    "import pandas as pd\n",
    "import numpy as np\n",
    "import matplotlib.pyplot as plt\n",
    "import seaborn as sns\n"
   ]
  },
  {
   "cell_type": "markdown",
   "metadata": {},
   "source": [
    "## Declaring the 20 stocks and displaying the data from 2013 - end of 2022"
   ]
  },
  {
   "cell_type": "code",
   "execution_count": 7,
   "metadata": {},
   "outputs": [],
   "source": [
    "# 5 stocks from each sectors\n",
    "healthcare_stocks = ['LLY', 'JNJ', 'UNH', 'ABBV', 'TMO']\n",
    "finance_stocks = ['BAC', 'JPM', 'V', 'WFC', 'MA']\n",
    "technology_stocks = ['AAPL', 'MSFT', 'NVDA', 'ADBE', 'AVGO']\n",
    "consumer_stocks = ['WMT', 'PG', 'COST', 'KO', 'PM']"
   ]
  },
  {
   "cell_type": "code",
   "execution_count": 8,
   "metadata": {},
   "outputs": [
    {
     "name": "stdout",
     "output_type": "stream",
     "text": [
      "[*********************100%%**********************]  5 of 5 completed\n",
      "[*********************100%%**********************]  5 of 5 completed\n",
      "[*********************100%%**********************]  5 of 5 completed\n",
      "[*********************100%%**********************]  5 of 5 completed\n"
     ]
    }
   ],
   "source": [
    "# Taking the Adjusted closing price from the data\n",
    "healthcare_prices = yf.download(healthcare_stocks, start = \"2013-01-01\", end = '2023-01-01')['Adj Close']\n",
    "finance_prices= yf.download(finance_stocks, start = \"2013-01-01\", end = '2023-01-01')['Adj Close']\n",
    "technology_prices = yf.download(technology_stocks, start = \"2013-01-01\", end = '2023-01-01')['Adj Close']\n",
    "consumer_prices = yf.download(consumer_stocks, start = \"2013-01-01\", end = '2023-01-01')['Adj Close']"
   ]
  },
  {
   "cell_type": "code",
   "execution_count": 9,
   "metadata": {},
   "outputs": [
    {
     "name": "stdout",
     "output_type": "stream",
     "text": [
      "                 ABBV        JNJ        LLY        TMO        UNH\n",
      "Date                                                             \n",
      "2013-01-02  22.419838  52.369583  38.425724  62.571472  46.230911\n",
      "2013-01-03  22.234707  52.295662  38.588707  62.378937  44.069408\n",
      "2013-01-04  21.953814  52.894482  40.016769  62.927658  44.154160\n",
      "2013-01-07  21.998501  52.783588  39.962440  63.418579  44.154160\n",
      "2013-01-08  21.519720  52.790977  40.265118  63.023918  43.569294\n",
      "                  BAC        JPM         MA          V        WFC\n",
      "Date                                                             \n",
      "2013-01-02   9.992598  33.084885  47.807560  35.941441  25.509893\n",
      "2013-01-03   9.934454  33.018185  47.875961  35.969200  25.298832\n",
      "2013-01-04  10.059049  33.603436  47.874081  36.262978  25.429834\n",
      "2013-01-07  10.042438  33.640472  48.703739  36.522041  25.306103\n",
      "2013-01-08   9.951065  33.707146  48.543427  36.862076  25.262442\n",
      "                 AAPL       ADBE       AVGO       MSFT      NVDA\n",
      "Date                                                            \n",
      "2013-01-02  16.769093  38.340000  24.325905  22.574518  2.936236\n",
      "2013-01-03  16.557430  37.750000  24.452986  22.272104  2.938545\n",
      "2013-01-04  16.096231  38.130001  24.296001  21.855274  3.035496\n",
      "2013-01-07  16.001545  37.939999  24.161436  21.814407  2.947778\n",
      "2013-01-08  16.044607  38.139999  23.996975  21.699978  2.883143\n",
      "                 COST         KO         PG         PM        WMT\n",
      "Date                                                             \n",
      "2013-01-02  82.717529  26.821136  50.474297  50.785259  54.823948\n",
      "2013-01-03  83.565521  26.821136  50.154247  50.270042  54.475571\n",
      "2013-01-04  83.296432  26.863935  50.256088  50.656452  54.681435\n",
      "2013-01-07  82.652313  26.607140  49.914200  50.498383  54.158848\n",
      "2013-01-08  82.497383  26.421669  49.834202  50.404697  54.309288\n"
     ]
    }
   ],
   "source": [
    "# Displaying the data\n",
    "print(healthcare_prices.head())\n",
    "print(finance_prices.head())\n",
    "print(technology_prices.head())\n",
    "print(consumer_prices.head())"
   ]
  },
  {
   "cell_type": "code",
   "execution_count": 10,
   "metadata": {},
   "outputs": [],
   "source": [
    "# Daily price returns of each stocks \n",
    "healthcare_returns = healthcare_prices.pct_change()\n",
    "finance_returns = finance_prices.pct_change()\n",
    "technology_returns = technology_prices.pct_change()\n",
    "consumer_returns = consumer_prices.pct_change()"
   ]
  },
  {
   "cell_type": "code",
   "execution_count": 19,
   "metadata": {},
   "outputs": [],
   "source": [
    "# Annualize returns and volatility Function\n",
    "def annualize_rets(r, periods_per_year):\n",
    "    compounded_growth = (1+r).prod()\n",
    "    n_periods = r.shape[0]\n",
    "    return compounded_growth**(periods_per_year/n_periods)-1\n",
    "def annualize_vol(r, periods_per_year):\n",
    "    return r.std()*(periods_per_year**0.5)\n"
   ]
  },
  {
   "cell_type": "code",
   "execution_count": 20,
   "metadata": {},
   "outputs": [],
   "source": [
    "periods_per_year = 252\n",
    "healthcare_annualized_returns = annualize_rets(healthcare_returns, periods_per_year)\n",
    "finance_annualized_returns = annualize_rets(finance_returns, periods_per_year)\n",
    "technology_annualized_returns = annualize_rets(technology_returns, periods_per_year)\n",
    "consumer_annualized_returns = annualize_rets(consumer_returns, periods_per_year)\n",
    "\n",
    "healthcare_annualized_volatility = annualize_vol(healthcare_returns, periods_per_year)\n",
    "finance_annualized_volatility = annualize_vol(finance_returns, periods_per_year)\n",
    "technology_annualized_volatility = annualize_vol(technology_returns, periods_per_year)\n",
    "consumer_annualized_volatility = annualize_vol(consumer_returns, periods_per_year)\n"
   ]
  },
  {
   "cell_type": "code",
   "execution_count": 18,
   "metadata": {},
   "outputs": [
    {
     "name": "stdout",
     "output_type": "stream",
     "text": [
      "Healthcare Annualized Returns: ABBV    0.213753\n",
      "JNJ     0.126020\n",
      "LLY     0.251751\n",
      "TMO     0.242915\n",
      "UNH     0.275063\n",
      "dtype: float64\n",
      "Finance Annualized Returns: BAC    0.124852\n",
      "JPM    0.146969\n",
      "MA     0.218930\n",
      "V      0.191004\n",
      "WFC    0.046142\n",
      "dtype: float64\n",
      "Technology Annualized Returns: AAPL    0.226728\n",
      "ADBE    0.242831\n",
      "AVGO    0.366073\n",
      "MSFT    0.265682\n",
      "NVDA    0.478486\n",
      "dtype: float64\n",
      "Consumer Goods Annualized Returns: COST    0.185538\n",
      "KO      0.087750\n",
      "PG      0.113524\n",
      "PM      0.067107\n",
      "WMT     0.098509\n",
      "dtype: float64\n"
     ]
    }
   ],
   "source": [
    "print(\"Healthcare Annualized Returns:\", healthcare_annualized_returns)\n",
    "print(\"Finance Annualized Returns:\", finance_annualized_returns)\n",
    "print(\"Technology Annualized Returns:\", technology_annualized_returns)\n",
    "print(\"Consumer Goods Annualized Returns:\", consumer_annualized_returns)"
   ]
  },
  {
   "cell_type": "code",
   "execution_count": 21,
   "metadata": {},
   "outputs": [
    {
     "name": "stdout",
     "output_type": "stream",
     "text": [
      "Healthcare Annualized Volatility: ABBV    0.271654\n",
      "JNJ     0.176796\n",
      "LLY     0.257154\n",
      "TMO     0.242967\n",
      "UNH     0.253458\n",
      "dtype: float64\n",
      "Finance Annualized Volatility: BAC    0.307505\n",
      "JPM    0.268064\n",
      "MA     0.273649\n",
      "V      0.251833\n",
      "WFC    0.295154\n",
      "dtype: float64\n",
      "Technology Annualized Volatility: AAPL    0.290626\n",
      "ADBE    0.315261\n",
      "AVGO    0.346119\n",
      "MSFT    0.270340\n",
      "NVDA    0.442733\n",
      "dtype: float64\n",
      "Consumer Goods Annualized Volatility: COST    0.208185\n",
      "KO      0.181020\n",
      "PG      0.183174\n",
      "PM      0.225189\n",
      "WMT     0.205491\n",
      "dtype: float64\n"
     ]
    }
   ],
   "source": [
    "print(\"Healthcare Annualized Volatility:\", healthcare_annualized_volatility)\n",
    "print(\"Finance Annualized Volatility:\", finance_annualized_volatility)\n",
    "print(\"Technology Annualized Volatility:\", technology_annualized_volatility)\n",
    "print(\"Consumer Goods Annualized Volatility:\", consumer_annualized_volatility)"
   ]
  },
  {
   "cell_type": "code",
   "execution_count": 28,
   "metadata": {},
   "outputs": [
    {
     "data": {
      "image/png": "[encoded data removed]",
      "text/plain": [
       "<Figure size 1200x800 with 4 Axes>"
      ]
     },
     "metadata": {},
     "output_type": "display_data"
    }
   ],
   "source": [
    "fig, axes = plt.subplots(nrows=2, ncols=2, figsize=(12, 8))\n",
    "fig.suptitle('Annualized Returns for Different Sectors', fontsize=16)\n",
    "\n",
    "axes[0, 0].bar(healthcare_annualized_returns.index, healthcare_annualized_returns.sort_values())\n",
    "axes[0, 0].set_title('Healthcare')\n",
    "\n",
    "axes[0, 1].bar(finance_annualized_returns.index, finance_annualized_returns.sort_values())\n",
    "axes[0, 1].set_title('Finance')\n",
    "\n",
    "axes[1, 0].bar(technology_annualized_returns.index, technology_annualized_returns.sort_values())\n",
    "axes[1, 0].set_title('Technology')\n",
    "\n",
    "axes[1, 1].bar(consumer_annualized_returns.index, consumer_annualized_returns.sort_values())\n",
    "axes[1, 1].set_title('Consumer Goods')\n",
    "\n",
    "plt.show()"
   ]
  },
  {
   "cell_type": "markdown",
   "metadata": {},
   "source": [
    "#### Combining the stocks to calculate the best and worst risk-retuns(Sharpe Ratio)"
   ]
  },
  {
   "cell_type": "code",
   "execution_count": 29,
   "metadata": {},
   "outputs": [],
   "source": [
    "stocks_data = pd.DataFrame({\n",
    "    'Symbol': healthcare_stocks + finance_stocks + technology_stocks + consumer_stocks,\n",
    "    'Annualized Return': healthcare_annualized_returns.tolist() + finance_annualized_returns.tolist() +\n",
    "                          technology_annualized_returns.tolist() + consumer_annualized_returns.tolist(),\n",
    "    'Annualized Volatility': healthcare_annualized_volatility.tolist() + finance_annualized_volatility.tolist() +\n",
    "                             technology_annualized_volatility.tolist() + consumer_annualized_volatility.tolist()\n",
    "})"
   ]
  },
  {
   "cell_type": "code",
   "execution_count": 33,
   "metadata": {},
   "outputs": [],
   "source": [
    "risk_free_rate = 0.0  # Assuming this is the Risk Free Rate, but it can be adjusted\n",
    "stocks_data['Sharpe Ratio'] = (stocks_data['Annualized Return'] - risk_free_rate) / stocks_data['Annualized Volatility']"
   ]
  },
  {
   "cell_type": "code",
   "execution_count": 37,
   "metadata": {},
   "outputs": [
    {
     "data": {
      "text/html": [
       "<div>\n",
       "<style scoped>\n",
       "    .dataframe tbody tr th:only-of-type {\n",
       "        vertical-align: middle;\n",
       "    }\n",
       "\n",
       "    .dataframe tbody tr th {\n",
       "        vertical-align: top;\n",
       "    }\n",
       "\n",
       "    .dataframe thead th {\n",
       "        text-align: right;\n",
       "    }\n",
       "</style>\n",
       "<table border=\"1\" class=\"dataframe\">\n",
       "  <thead>\n",
       "    <tr style=\"text-align: right;\">\n",
       "      <th></th>\n",
       "      <th>Symbol</th>\n",
       "      <th>Annualized Return</th>\n",
       "      <th>Annualized Volatility</th>\n",
       "      <th>Sharpe Ratio</th>\n",
       "    </tr>\n",
       "  </thead>\n",
       "  <tbody>\n",
       "    <tr>\n",
       "      <th>0</th>\n",
       "      <td>LLY</td>\n",
       "      <td>0.213753</td>\n",
       "      <td>0.271654</td>\n",
       "      <td>0.786857</td>\n",
       "    </tr>\n",
       "    <tr>\n",
       "      <th>1</th>\n",
       "      <td>JNJ</td>\n",
       "      <td>0.126020</td>\n",
       "      <td>0.176796</td>\n",
       "      <td>0.712800</td>\n",
       "    </tr>\n",
       "    <tr>\n",
       "      <th>2</th>\n",
       "      <td>UNH</td>\n",
       "      <td>0.251751</td>\n",
       "      <td>0.257154</td>\n",
       "      <td>0.978990</td>\n",
       "    </tr>\n",
       "    <tr>\n",
       "      <th>3</th>\n",
       "      <td>ABBV</td>\n",
       "      <td>0.242915</td>\n",
       "      <td>0.242967</td>\n",
       "      <td>0.999785</td>\n",
       "    </tr>\n",
       "    <tr>\n",
       "      <th>4</th>\n",
       "      <td>TMO</td>\n",
       "      <td>0.275063</td>\n",
       "      <td>0.253458</td>\n",
       "      <td>1.085244</td>\n",
       "    </tr>\n",
       "    <tr>\n",
       "      <th>5</th>\n",
       "      <td>BAC</td>\n",
       "      <td>0.124852</td>\n",
       "      <td>0.307505</td>\n",
       "      <td>0.406017</td>\n",
       "    </tr>\n",
       "    <tr>\n",
       "      <th>6</th>\n",
       "      <td>JPM</td>\n",
       "      <td>0.146969</td>\n",
       "      <td>0.268064</td>\n",
       "      <td>0.548260</td>\n",
       "    </tr>\n",
       "    <tr>\n",
       "      <th>7</th>\n",
       "      <td>V</td>\n",
       "      <td>0.218930</td>\n",
       "      <td>0.273649</td>\n",
       "      <td>0.800038</td>\n",
       "    </tr>\n",
       "    <tr>\n",
       "      <th>8</th>\n",
       "      <td>WFC</td>\n",
       "      <td>0.191004</td>\n",
       "      <td>0.251833</td>\n",
       "      <td>0.758456</td>\n",
       "    </tr>\n",
       "    <tr>\n",
       "      <th>9</th>\n",
       "      <td>MA</td>\n",
       "      <td>0.046142</td>\n",
       "      <td>0.295154</td>\n",
       "      <td>0.156333</td>\n",
       "    </tr>\n",
       "    <tr>\n",
       "      <th>10</th>\n",
       "      <td>AAPL</td>\n",
       "      <td>0.226728</td>\n",
       "      <td>0.290626</td>\n",
       "      <td>0.780137</td>\n",
       "    </tr>\n",
       "    <tr>\n",
       "      <th>11</th>\n",
       "      <td>MSFT</td>\n",
       "      <td>0.242831</td>\n",
       "      <td>0.315261</td>\n",
       "      <td>0.770253</td>\n",
       "    </tr>\n",
       "    <tr>\n",
       "      <th>12</th>\n",
       "      <td>NVDA</td>\n",
       "      <td>0.366073</td>\n",
       "      <td>0.346119</td>\n",
       "      <td>1.057651</td>\n",
       "    </tr>\n",
       "    <tr>\n",
       "      <th>13</th>\n",
       "      <td>ADBE</td>\n",
       "      <td>0.265682</td>\n",
       "      <td>0.270340</td>\n",
       "      <td>0.982769</td>\n",
       "    </tr>\n",
       "    <tr>\n",
       "      <th>14</th>\n",
       "      <td>AVGO</td>\n",
       "      <td>0.478486</td>\n",
       "      <td>0.442733</td>\n",
       "      <td>1.080755</td>\n",
       "    </tr>\n",
       "    <tr>\n",
       "      <th>15</th>\n",
       "      <td>WMT</td>\n",
       "      <td>0.185538</td>\n",
       "      <td>0.208185</td>\n",
       "      <td>0.891216</td>\n",
       "    </tr>\n",
       "    <tr>\n",
       "      <th>16</th>\n",
       "      <td>PG</td>\n",
       "      <td>0.087750</td>\n",
       "      <td>0.181020</td>\n",
       "      <td>0.484756</td>\n",
       "    </tr>\n",
       "    <tr>\n",
       "      <th>17</th>\n",
       "      <td>COST</td>\n",
       "      <td>0.113524</td>\n",
       "      <td>0.183174</td>\n",
       "      <td>0.619763</td>\n",
       "    </tr>\n",
       "    <tr>\n",
       "      <th>18</th>\n",
       "      <td>KO</td>\n",
       "      <td>0.067107</td>\n",
       "      <td>0.225189</td>\n",
       "      <td>0.298003</td>\n",
       "    </tr>\n",
       "    <tr>\n",
       "      <th>19</th>\n",
       "      <td>PM</td>\n",
       "      <td>0.098509</td>\n",
       "      <td>0.205491</td>\n",
       "      <td>0.479383</td>\n",
       "    </tr>\n",
       "  </tbody>\n",
       "</table>\n",
       "</div>"
      ],
      "text/plain": [
       "   Symbol  Annualized Return  Annualized Volatility  Sharpe Ratio\n",
       "0     LLY           0.213753               0.271654      0.786857\n",
       "1     JNJ           0.126020               0.176796      0.712800\n",
       "2     UNH           0.251751               0.257154      0.978990\n",
       "3    ABBV           0.242915               0.242967      0.999785\n",
       "4     TMO           0.275063               0.253458      1.085244\n",
       "5     BAC           0.124852               0.307505      0.406017\n",
       "6     JPM           0.146969               0.268064      0.548260\n",
       "7       V           0.218930               0.273649      0.800038\n",
       "8     WFC           0.191004               0.251833      0.758456\n",
       "9      MA           0.046142               0.295154      0.156333\n",
       "10   AAPL           0.226728               0.290626      0.780137\n",
       "11   MSFT           0.242831               0.315261      0.770253\n",
       "12   NVDA           0.366073               0.346119      1.057651\n",
       "13   ADBE           0.265682               0.270340      0.982769\n",
       "14   AVGO           0.478486               0.442733      1.080755\n",
       "15    WMT           0.185538               0.208185      0.891216\n",
       "16     PG           0.087750               0.181020      0.484756\n",
       "17   COST           0.113524               0.183174      0.619763\n",
       "18     KO           0.067107               0.225189      0.298003\n",
       "19     PM           0.098509               0.205491      0.479383"
      ]
     },
     "execution_count": 37,
     "metadata": {},
     "output_type": "execute_result"
    }
   ],
   "source": [
    "stocks_data"
   ]
  },
  {
   "cell_type": "code",
   "execution_count": 34,
   "metadata": {},
   "outputs": [],
   "source": [
    "best_stock = stocks_data.loc[stocks_data['Sharpe Ratio'].idxmax()]\n",
    "worst_stock = stocks_data.loc[stocks_data['Sharpe Ratio'].idxmin()]"
   ]
  },
  {
   "cell_type": "code",
   "execution_count": 35,
   "metadata": {},
   "outputs": [
    {
     "name": "stdout",
     "output_type": "stream",
     "text": [
      "Stock with the Best Risk-Return Profile:\n",
      "Symbol                        TMO\n",
      "Annualized Return        0.275063\n",
      "Annualized Volatility    0.253458\n",
      "Sharpe Ratio             1.085244\n",
      "Name: 4, dtype: object\n",
      "\n",
      "Stock with the Worst Risk-Return Profile:\n",
      "Symbol                         MA\n",
      "Annualized Return        0.046142\n",
      "Annualized Volatility    0.295154\n",
      "Sharpe Ratio             0.156333\n",
      "Name: 9, dtype: object\n"
     ]
    }
   ],
   "source": [
    "print(\"Stock with the Best Risk-Return Profile:\")\n",
    "print(best_stock)\n",
    "\n",
    "print(\"\\nStock with the Worst Risk-Return Profile:\")\n",
    "print(worst_stock)"
   ]
  },
  {
   "cell_type": "code",
   "execution_count": null,
   "metadata": {},
   "outputs": [],
   "source": []
  }
 ],
 "metadata": {
  "kernelspec": {
   "display_name": "Python 3",
   "language": "python",
   "name": "python3"
  },
  "language_info": {
   "codemirror_mode": {
    "name": "ipython",
    "version": 3
   },
   "file_extension": ".py",
   "mimetype": "text/x-python",
   "name": "python",
   "nbconvert_exporter": "python",
   "pygments_lexer": "ipython3",
   "version": "3.10.11"
  }
 },
 "nbformat": 4,
 "nbformat_minor": 2
}
